{
  "nbformat": 4,
  "nbformat_minor": 0,
  "metadata": {
    "colab": {
      "provenance": [],
      "collapsed_sections": [],
      "include_colab_link": true
    },
    "kernelspec": {
      "name": "python3",
      "display_name": "Python 3"
    },
    "language_info": {
      "name": "python"
    }
  },
  "cells": [
    {
      "cell_type": "markdown",
      "metadata": {
        "id": "view-in-github",
        "colab_type": "text"
      },
      "source": [
        "<a href=\"https://colab.research.google.com/github/spencer730/Spradling-WoodsAssignment1/blob/main/Notebook1.ipynb\" target=\"_parent\"><img src=\"https://colab.research.google.com/assets/colab-badge.svg\" alt=\"Open In Colab\"/></a>"
      ]
    },
    {
      "cell_type": "markdown",
      "source": [
        "# Notebook #1: Python, Pandas, and Movies!\n",
        "**Name: your name here**\n",
        "\n",
        "**Due 9/13 before class**\n",
        "\n",
        "The goal of this notebook is to become comfortable with using `python` and `pandas` as well as grabbing specific slices of the dataset. \n",
        "\n",
        "Start off by importing the data. Make sure the data is in your Google Drive, and that you update the path to point to where you have your data saved in Drive."
      ],
      "metadata": {
        "id": "znLmB8BEzT9M"
      }
    },
    {
      "cell_type": "code",
      "execution_count": 1,
      "metadata": {
        "id": "pEUiWYhVWPxa",
        "colab": {
          "base_uri": "https://localhost:8080/"
        },
        "outputId": "caa92913-b880-48ff-9f6e-f30e1fd1e67c"
      },
      "outputs": [
        {
          "output_type": "stream",
          "name": "stdout",
          "text": [
            "Mounted at /content/drive\n"
          ]
        }
      ],
      "source": [
        "#selecting columns in dataframes\n",
        "import pandas\n",
        "from google.colab import drive\n",
        "drive.mount('/content/drive')"
      ]
    },
    {
      "cell_type": "code",
      "source": [
        "#import the data:\n",
        "#make sure the path on the line below corresponds to the path where you put your dataset.\n",
        "movies = pandas.read_csv('/content/drive/MyDrive/CS167Fall22/Datasets/MoviesData.csv')"
      ],
      "metadata": {
        "id": "eN3_rgW0Wa2R"
      },
      "execution_count": 2,
      "outputs": []
    },
    {
      "cell_type": "markdown",
      "source": [
        "## Exercise #1: \n",
        "Print out all of the possible values for the Genres.\n",
        "- *Hint: I'm looking for each possible Genre to be ouput once. For example, if I tossed a coin 3 times and got Heads, Tails, Heads, the possible values of the coin flip are Heads and Tails. There is a function for this. It should require one line of code.*"
      ],
      "metadata": {
        "id": "OYCfn1aKzmJ5"
      }
    },
    {
      "cell_type": "code",
      "source": [
        "print(movies['Genre'].unique())"
      ],
      "metadata": {
        "id": "I-jiV1tnQrPa",
        "outputId": "30b7b1ae-34d8-4634-aa29-0f776d5df935",
        "colab": {
          "base_uri": "https://localhost:8080/"
        }
      },
      "execution_count": 5,
      "outputs": [
        {
          "output_type": "stream",
          "name": "stdout",
          "text": [
            "['Action' 'Adventure' 'Western' 'Animation' 'Biography' 'Drama' 'Crime'\n",
            " 'Comedy' 'Documentary' 'Family' 'Horror' 'Thriller' 'Mystery' nan\n",
            " 'Fantasy' 'Romance' 'Short' 'Sci-Fi' 'Talk-Show' 'Sport' 'Reality-TV'\n",
            " 'Musical' 'War' 'News' 'History' 'Film-Noir']\n"
          ]
        }
      ]
    },
    {
      "cell_type": "markdown",
      "source": [
        "## Exercise #2:\n",
        "Create a subset of data representing movies from the year 2000-2010 (including both 2000 and 2010) with the value \"Action\" in the Genre column. Save this DataFrame to the variable name `older_action_movies`. Display the first 5 lines of this subset."
      ],
      "metadata": {
        "id": "R0u87ioL0fHe"
      }
    },
    {
      "cell_type": "code",
      "source": [
        "older_action_movies = movies[(movies['Year'] < 2011) & (movies['Year'] > 1999) & (movies['Genre'] == 'Action')]\n",
        "older_action_movies.head()"
      ],
      "metadata": {
        "id": "dFlMQK_lSttR",
        "outputId": "b84c7e8d-8414-4e09-86b0-948a48d363e0",
        "colab": {
          "base_uri": "https://localhost:8080/",
          "height": 206
        }
      },
      "execution_count": 13,
      "outputs": [
        {
          "output_type": "execute_result",
          "data": {
            "text/plain": [
              "                          Title  Year  Age  IMDb  Rotten Tomatoes  \\\n",
              "0                     Inception  2010  13+   8.8             87.0   \n",
              "27                   District 9  2009  18+   7.9             90.0   \n",
              "36              Minority Report  2002  13+   7.6             90.0   \n",
              "43                       Ip Man  2008  18+   8.0             85.0   \n",
              "48  Scott Pilgrim vs. the World  2010  13+   7.5             81.0   \n",
              "\n",
              "            Directors   Genre  Runtime        Country  \n",
              "0   Christopher Nolan  Action    148.0  United States  \n",
              "27     Neill Blomkamp  Action    112.0   South Africa  \n",
              "36   Steven Spielberg  Action    145.0  United States  \n",
              "43         Wilson Yip  Action    106.0      Hong Kong  \n",
              "48       Edgar Wright  Action    112.0  United States  "
            ],
            "text/html": [
              "\n",
              "  <div id=\"df-5731d178-d99d-485e-a9a1-d8bd7991ab91\">\n",
              "    <div class=\"colab-df-container\">\n",
              "      <div>\n",
              "<style scoped>\n",
              "    .dataframe tbody tr th:only-of-type {\n",
              "        vertical-align: middle;\n",
              "    }\n",
              "\n",
              "    .dataframe tbody tr th {\n",
              "        vertical-align: top;\n",
              "    }\n",
              "\n",
              "    .dataframe thead th {\n",
              "        text-align: right;\n",
              "    }\n",
              "</style>\n",
              "<table border=\"1\" class=\"dataframe\">\n",
              "  <thead>\n",
              "    <tr style=\"text-align: right;\">\n",
              "      <th></th>\n",
              "      <th>Title</th>\n",
              "      <th>Year</th>\n",
              "      <th>Age</th>\n",
              "      <th>IMDb</th>\n",
              "      <th>Rotten Tomatoes</th>\n",
              "      <th>Directors</th>\n",
              "      <th>Genre</th>\n",
              "      <th>Runtime</th>\n",
              "      <th>Country</th>\n",
              "    </tr>\n",
              "  </thead>\n",
              "  <tbody>\n",
              "    <tr>\n",
              "      <th>0</th>\n",
              "      <td>Inception</td>\n",
              "      <td>2010</td>\n",
              "      <td>13+</td>\n",
              "      <td>8.8</td>\n",
              "      <td>87.0</td>\n",
              "      <td>Christopher Nolan</td>\n",
              "      <td>Action</td>\n",
              "      <td>148.0</td>\n",
              "      <td>United States</td>\n",
              "    </tr>\n",
              "    <tr>\n",
              "      <th>27</th>\n",
              "      <td>District 9</td>\n",
              "      <td>2009</td>\n",
              "      <td>18+</td>\n",
              "      <td>7.9</td>\n",
              "      <td>90.0</td>\n",
              "      <td>Neill Blomkamp</td>\n",
              "      <td>Action</td>\n",
              "      <td>112.0</td>\n",
              "      <td>South Africa</td>\n",
              "    </tr>\n",
              "    <tr>\n",
              "      <th>36</th>\n",
              "      <td>Minority Report</td>\n",
              "      <td>2002</td>\n",
              "      <td>13+</td>\n",
              "      <td>7.6</td>\n",
              "      <td>90.0</td>\n",
              "      <td>Steven Spielberg</td>\n",
              "      <td>Action</td>\n",
              "      <td>145.0</td>\n",
              "      <td>United States</td>\n",
              "    </tr>\n",
              "    <tr>\n",
              "      <th>43</th>\n",
              "      <td>Ip Man</td>\n",
              "      <td>2008</td>\n",
              "      <td>18+</td>\n",
              "      <td>8.0</td>\n",
              "      <td>85.0</td>\n",
              "      <td>Wilson Yip</td>\n",
              "      <td>Action</td>\n",
              "      <td>106.0</td>\n",
              "      <td>Hong Kong</td>\n",
              "    </tr>\n",
              "    <tr>\n",
              "      <th>48</th>\n",
              "      <td>Scott Pilgrim vs. the World</td>\n",
              "      <td>2010</td>\n",
              "      <td>13+</td>\n",
              "      <td>7.5</td>\n",
              "      <td>81.0</td>\n",
              "      <td>Edgar Wright</td>\n",
              "      <td>Action</td>\n",
              "      <td>112.0</td>\n",
              "      <td>United States</td>\n",
              "    </tr>\n",
              "  </tbody>\n",
              "</table>\n",
              "</div>\n",
              "      <button class=\"colab-df-convert\" onclick=\"convertToInteractive('df-5731d178-d99d-485e-a9a1-d8bd7991ab91')\"\n",
              "              title=\"Convert this dataframe to an interactive table.\"\n",
              "              style=\"display:none;\">\n",
              "        \n",
              "  <svg xmlns=\"http://www.w3.org/2000/svg\" height=\"24px\"viewBox=\"0 0 24 24\"\n",
              "       width=\"24px\">\n",
              "    <path d=\"M0 0h24v24H0V0z\" fill=\"none\"/>\n",
              "    <path d=\"M18.56 5.44l.94 2.06.94-2.06 2.06-.94-2.06-.94-.94-2.06-.94 2.06-2.06.94zm-11 1L8.5 8.5l.94-2.06 2.06-.94-2.06-.94L8.5 2.5l-.94 2.06-2.06.94zm10 10l.94 2.06.94-2.06 2.06-.94-2.06-.94-.94-2.06-.94 2.06-2.06.94z\"/><path d=\"M17.41 7.96l-1.37-1.37c-.4-.4-.92-.59-1.43-.59-.52 0-1.04.2-1.43.59L10.3 9.45l-7.72 7.72c-.78.78-.78 2.05 0 2.83L4 21.41c.39.39.9.59 1.41.59.51 0 1.02-.2 1.41-.59l7.78-7.78 2.81-2.81c.8-.78.8-2.07 0-2.86zM5.41 20L4 18.59l7.72-7.72 1.47 1.35L5.41 20z\"/>\n",
              "  </svg>\n",
              "      </button>\n",
              "      \n",
              "  <style>\n",
              "    .colab-df-container {\n",
              "      display:flex;\n",
              "      flex-wrap:wrap;\n",
              "      gap: 12px;\n",
              "    }\n",
              "\n",
              "    .colab-df-convert {\n",
              "      background-color: #E8F0FE;\n",
              "      border: none;\n",
              "      border-radius: 50%;\n",
              "      cursor: pointer;\n",
              "      display: none;\n",
              "      fill: #1967D2;\n",
              "      height: 32px;\n",
              "      padding: 0 0 0 0;\n",
              "      width: 32px;\n",
              "    }\n",
              "\n",
              "    .colab-df-convert:hover {\n",
              "      background-color: #E2EBFA;\n",
              "      box-shadow: 0px 1px 2px rgba(60, 64, 67, 0.3), 0px 1px 3px 1px rgba(60, 64, 67, 0.15);\n",
              "      fill: #174EA6;\n",
              "    }\n",
              "\n",
              "    [theme=dark] .colab-df-convert {\n",
              "      background-color: #3B4455;\n",
              "      fill: #D2E3FC;\n",
              "    }\n",
              "\n",
              "    [theme=dark] .colab-df-convert:hover {\n",
              "      background-color: #434B5C;\n",
              "      box-shadow: 0px 1px 3px 1px rgba(0, 0, 0, 0.15);\n",
              "      filter: drop-shadow(0px 1px 2px rgba(0, 0, 0, 0.3));\n",
              "      fill: #FFFFFF;\n",
              "    }\n",
              "  </style>\n",
              "\n",
              "      <script>\n",
              "        const buttonEl =\n",
              "          document.querySelector('#df-5731d178-d99d-485e-a9a1-d8bd7991ab91 button.colab-df-convert');\n",
              "        buttonEl.style.display =\n",
              "          google.colab.kernel.accessAllowed ? 'block' : 'none';\n",
              "\n",
              "        async function convertToInteractive(key) {\n",
              "          const element = document.querySelector('#df-5731d178-d99d-485e-a9a1-d8bd7991ab91');\n",
              "          const dataTable =\n",
              "            await google.colab.kernel.invokeFunction('convertToInteractive',\n",
              "                                                     [key], {});\n",
              "          if (!dataTable) return;\n",
              "\n",
              "          const docLinkHtml = 'Like what you see? Visit the ' +\n",
              "            '<a target=\"_blank\" href=https://colab.research.google.com/notebooks/data_table.ipynb>data table notebook</a>'\n",
              "            + ' to learn more about interactive tables.';\n",
              "          element.innerHTML = '';\n",
              "          dataTable['output_type'] = 'display_data';\n",
              "          await google.colab.output.renderOutput(dataTable, element);\n",
              "          const docLink = document.createElement('div');\n",
              "          docLink.innerHTML = docLinkHtml;\n",
              "          element.appendChild(docLink);\n",
              "        }\n",
              "      </script>\n",
              "    </div>\n",
              "  </div>\n",
              "  "
            ]
          },
          "metadata": {},
          "execution_count": 13
        }
      ]
    },
    {
      "cell_type": "markdown",
      "source": [
        "## Exercise #3\n",
        "Using `older_action_movies`, what is the *median* **IMDb** rating?"
      ],
      "metadata": {
        "id": "BKlHFlGP1OLG"
      }
    },
    {
      "cell_type": "markdown",
      "source": [
        "## Exercise #4\n",
        "Create a new subset with only movies with `Rotten Tomatoes` values < 20 and `IMDb` values < 3.0 (these should be awful movies!). Include only 4 columns: the `Title`, `Year`, `IMDb`, and `Rotten Tomatoes`. Display all of the rows in this subset.\n"
      ],
      "metadata": {
        "id": "B9UXCYtC1pOP"
      }
    },
    {
      "cell_type": "markdown",
      "source": [
        "## Exercise #5\n",
        "\n",
        "What is the average (mean) IMDb score for each of the different Genres?  (I'm looking at the average of the 'IMDb' column, grouped by Genre--so Action v Adventure v Animation etc.). Look at this list to determine which genre has the highest average.\n",
        "- In addition to supplying the code to output the averages for each Genre,answer the question of the hightest average in a text cell ...*"
      ],
      "metadata": {
        "id": "91OfntId3DsF"
      }
    },
    {
      "cell_type": "markdown",
      "source": [
        "## Exercise #6\n",
        "\n",
        "Do something cool. Using the movies dataset, get creative and show me something about the dataset. Use a text cell to explain what you did."
      ],
      "metadata": {
        "id": "fG3cWlnQlWxh"
      }
    }
  ]
}